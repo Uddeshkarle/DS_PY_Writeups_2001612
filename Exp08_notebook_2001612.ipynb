{
  "nbformat": 4,
  "nbformat_minor": 0,
  "metadata": {
    "colab": {
      "provenance": [],
      "authorship_tag": "ABX9TyML1PdSIChPbRWi0b6JcSu1",
      "include_colab_link": true
    },
    "kernelspec": {
      "name": "python3",
      "display_name": "Python 3"
    },
    "language_info": {
      "name": "python"
    }
  },
  "cells": [
    {
      "cell_type": "markdown",
      "metadata": {
        "id": "view-in-github",
        "colab_type": "text"
      },
      "source": [
        "<a href=\"https://colab.research.google.com/github/Uddeshkarle/DS_PY_Writeups_2001612/blob/main/Exp08_notebook_2001612.ipynb\" target=\"_parent\"><img src=\"https://colab.research.google.com/assets/colab-badge.svg\" alt=\"Open In Colab\"/></a>"
      ]
    },
    {
      "cell_type": "code",
      "source": [
        "import matplotlib as mpl\n",
        "import matplotlib.pyplot as plt\n",
        "mpl.__version__"
      ],
      "metadata": {
        "colab": {
          "base_uri": "https://localhost:8080/",
          "height": 35
        },
        "id": "QXyUKHNXE1yE",
        "outputId": "b08aa58c-776e-4358-a60f-8b8d32d13d2f"
      },
      "execution_count": 1,
      "outputs": [
        {
          "output_type": "execute_result",
          "data": {
            "text/plain": [
              "'3.7.1'"
            ],
            "application/vnd.google.colaboratory.intrinsic+json": {
              "type": "string"
            }
          },
          "metadata": {},
          "execution_count": 1
        }
      ]
    },
    {
      "cell_type": "code",
      "source": [
        "\n",
        "from google.colab import drive\n",
        "drive.mount('/content/drive')\n"
      ],
      "metadata": {
        "colab": {
          "base_uri": "https://localhost:8080/"
        },
        "id": "IhpmxsKJE3aF",
        "outputId": "6b922398-65a4-43d7-918b-cf1d86f213cb"
      },
      "execution_count": 2,
      "outputs": [
        {
          "output_type": "stream",
          "name": "stdout",
          "text": [
            "Mounted at /content/drive\n"
          ]
        }
      ]
    },
    {
      "cell_type": "markdown",
      "source": [
        "1. Define your Problem statement and ML technique I(one) you propose to use. \n",
        "\n"
      ],
      "metadata": {
        "id": "akf5cTbYElIq"
      }
    },
    {
      "cell_type": "code",
      "execution_count": 3,
      "metadata": {
        "id": "BmbuH-CF3taX",
        "colab": {
          "base_uri": "https://localhost:8080/"
        },
        "outputId": "75203649-770c-4642-93c4-dc0bd32ae9dd"
      },
      "outputs": [
        {
          "output_type": "stream",
          "name": "stdout",
          "text": [
            "Logistic Regression Results:\n",
            "Accuracy: 0.9166666666666666\n",
            "Precision: 0.0\n",
            "Recall: 0.0\n",
            "F1 Score: 0.0\n"
          ]
        },
        {
          "output_type": "stream",
          "name": "stderr",
          "text": [
            "/usr/local/lib/python3.9/dist-packages/sklearn/metrics/_classification.py:1344: UndefinedMetricWarning: Precision is ill-defined and being set to 0.0 due to no predicted samples. Use `zero_division` parameter to control this behavior.\n",
            "  _warn_prf(average, modifier, msg_start, len(result))\n"
          ]
        }
      ],
      "source": [
        "import pandas as pd\n",
        "import numpy as np\n",
        "from sklearn.model_selection import train_test_split\n",
        "from sklearn.preprocessing import StandardScaler\n",
        "from sklearn.linear_model import LogisticRegression\n",
        "from sklearn.metrics import accuracy_score, precision_score, recall_score, f1_score\n",
        "\n",
        "# Load the cervical cancer dataset\n",
        "df = pd.read_csv(\"/content/drive/MyDrive/Classroom/risk_factors_cervical_cancer.csv\")\n",
        "\n",
        "# Preprocess the dataset\n",
        "df = df.replace('?', np.nan) # Replace missing values with NaN\n",
        "df = df.dropna() # Drop rows with missing values\n",
        "df = df.apply(pd.to_numeric) # Convert columns to numeric type\n",
        "df = pd.get_dummies(df, columns=['Smokes', 'Hormonal Contraceptives', 'IUD', 'STDs', 'STDs:condylomatosis', 'STDs:cervical condylomatosis', 'STDs:vaginal condylomatosis', 'STDs:vulvo-perineal condylomatosis', 'STDs:syphilis', 'STDs:pelvic inflammatory disease', 'STDs:genital herpes', 'STDs:molluscum contagiosum', 'STDs:HIV', 'STDs:Hepatitis B']) # One-hot encode categorical variables\n",
        "X = df.drop(columns=['Biopsy'])\n",
        "y = df['Biopsy']\n",
        "scaler = StandardScaler()\n",
        "X = scaler.fit_transform(X) # Scale numerical features\n",
        "\n",
        "# Split the dataset into training and testing sets\n",
        "X_train, X_test, y_train, y_test = train_test_split(X, y, test_size=0.2, random_state=42)\n",
        "\n",
        "# Train and test the logistic regression model\n",
        "lr = LogisticRegression()\n",
        "lr.fit(X_train, y_train)\n",
        "y_pred_lr = lr.predict(X_test)\n",
        "accuracy_lr = accuracy_score(y_test, y_pred_lr)\n",
        "precision_lr = precision_score(y_test, y_pred_lr)\n",
        "recall_lr = recall_score(y_test, y_pred_lr)\n",
        "f1_lr = f1_score(y_test, y_pred_lr)\n",
        "\n",
        "print(\"Logistic Regression Results:\")\n",
        "print(\"Accuracy:\", accuracy_lr)\n",
        "print(\"Precision:\", precision_lr)\n",
        "print(\"Recall:\", recall_lr)\n",
        "print(\"F1 Score:\", f1_lr)\n"
      ]
    },
    {
      "cell_type": "markdown",
      "source": [
        "This code loads the Cervical Cancer (Risk Factors) Data Set using Pandas, preprocesses the dataset by handling missing values, encoding categorical variables, and scaling numerical features using StandardScaler() function from scikit-learn, splits the dataset into training and testing sets using train_test_split() function, trains and tests the logistic regression model using LogisticRegression() function, and prints the accuracy, precision, recall, and F1 score of the model. Running this code will produce the results for logistic regression on this dataset."
      ],
      "metadata": {
        "id": "U59NnLphFSsz"
      }
    },
    {
      "cell_type": "markdown",
      "source": [
        "2. Write about working of ML technique I you have proposed  "
      ],
      "metadata": {
        "id": "4eJqS-aAFZSK"
      }
    },
    {
      "cell_type": "markdown",
      "source": [
        "The ML technique used in the example code is logistic regression, which is a type of supervised learning algorithm that is used for binary classification problems. Logistic regression models the probability of a binary response variable (e.g. whether a patient has cervical cancer or not) as a function of the predictor variables (e.g. age, number of sexual partners, etc.). It is a linear model that uses a logistic (or sigmoid) function to map the input features to the output probabilities.\n",
        "The logistic regression algorithm works by taking the input features and weights and then applying the logistic function to compute the probability of the output variable being in the positive class. During the training process, the weights are iteratively updated in order to minimize a loss function, which measures the difference between the predicted probabilities and the actual labels. This process is known as maximum likelihood estimation."
      ],
      "metadata": {
        "id": "r2c6jBSlFq8j"
      }
    },
    {
      "cell_type": "markdown",
      "source": [
        "4. Do pre-processing as per requirements of ML technique I "
      ],
      "metadata": {
        "id": "oy_PJIWLHJmO"
      }
    },
    {
      "cell_type": "code",
      "source": [
        "import pandas as pd\n",
        "from sklearn.preprocessing import StandardScaler, LabelEncoder\n",
        "from sklearn.impute import SimpleImputer\n",
        "\n",
        "# Load the dataset\n",
        "data = pd.read_csv('/content/drive/MyDrive/Classroom/risk_factors_cervical_cancer.csv')\n",
        "\n",
        "# Handle missing values\n",
        "imputer = SimpleImputer(missing_values='?', strategy='most_frequent')\n",
        "data = imputer.fit_transform(data)\n",
        "\n",
        "# Convert non-numeric values to numeric values\n",
        "label_encoder = LabelEncoder()\n",
        "for i in range(data.shape[1]):\n",
        "    if isinstance(data[0,i], str):\n",
        "        data[:, i] = label_encoder.fit_transform(data[:, i])\n",
        "\n",
        "# Scale and normalize features\n",
        "scaler = StandardScaler()\n",
        "data = scaler.fit_transform(data)\n"
      ],
      "metadata": {
        "id": "-P_vxPPHGpey"
      },
      "execution_count": 6,
      "outputs": []
    },
    {
      "cell_type": "markdown",
      "source": [
        "5. Divide Data set in to training and validation sets"
      ],
      "metadata": {
        "id": "hUq024vbHx3H"
      }
    },
    {
      "cell_type": "code",
      "source": [
        "import pandas as pd\n",
        "from sklearn.model_selection import train_test_split\n",
        "\n",
        "# Load the dataset\n",
        "data = pd.read_csv('/content/drive/MyDrive/Classroom/risk_factors_cervical_cancer.csv')\n",
        "\n",
        "# Split the dataset into features (X) and target (y)\n",
        "X = data.iloc[:, :-1]\n",
        "y = data.iloc[:, -1]\n",
        "\n",
        "# Split the dataset into training and validation sets\n",
        "X_train, X_valid, y_train, y_valid = train_test_split(X, y, test_size=0.2, random_state=42)\n",
        "\n",
        "# Check the shapes of the training and validation sets\n",
        "print(\"Shape of X_train: \", X_train.shape)\n",
        "print(\"Shape of y_train: \", y_train.shape)\n",
        "print(\"Shape of X_valid: \", X_valid.shape)\n",
        "print(\"Shape of y_valid: \", y_valid.shape)\n"
      ],
      "metadata": {
        "colab": {
          "base_uri": "https://localhost:8080/"
        },
        "id": "HuT86PceHb1x",
        "outputId": "d46efeb5-d78e-4022-dfa1-64df65b906d2"
      },
      "execution_count": 8,
      "outputs": [
        {
          "output_type": "stream",
          "name": "stdout",
          "text": [
            "Shape of X_train:  (686, 35)\n",
            "Shape of y_train:  (686,)\n",
            "Shape of X_valid:  (172, 35)\n",
            "Shape of y_valid:  (172,)\n"
          ]
        }
      ]
    },
    {
      "cell_type": "markdown",
      "source": [
        "6. Perform training "
      ],
      "metadata": {
        "id": "w5F5r_EJIfwr"
      }
    },
    {
      "cell_type": "code",
      "source": [
        "import pandas as pd\n",
        "import numpy as np\n",
        "from sklearn.impute import SimpleImputer\n",
        "\n",
        "# Load the dataset\n",
        "df = pd.read_csv(\"/content/drive/MyDrive/Classroom/risk_factors_cervical_cancer.csv\")\n",
        "\n",
        "# Replace all occurrences of '?' with np.nan\n",
        "df.replace('?', np.nan, inplace=True)\n",
        "\n",
        "# Split the data into features and target\n",
        "X = df.drop(\"Biopsy\", axis=1)\n",
        "y = df[\"Biopsy\"]\n",
        "\n",
        "# Perform mean imputation on the features\n",
        "imputer = SimpleImputer(strategy=\"mean\")\n",
        "X_imputed = pd.DataFrame(imputer.fit_transform(X), columns=X.columns)\n",
        "\n",
        "# Split the data into training and validation sets\n",
        "from sklearn.model_selection import train_test_split\n",
        "X_train, X_val, y_train, y_val = train_test_split(X_imputed, y, test_size=0.2, random_state=42)\n",
        "\n",
        "# Train a logistic regression model on the training set\n",
        "from sklearn.linear_model import LogisticRegression\n",
        "lr = LogisticRegression()\n",
        "lr.fit(X_train, y_train)\n",
        "\n",
        "# Evaluate the model on the validation set\n",
        "from sklearn.metrics import accuracy_score\n",
        "y_pred = lr.predict(X_val)\n",
        "accuracy = accuracy_score(y_val, y_pred)\n",
        "print(\"Accuracy:\", accuracy)\n"
      ],
      "metadata": {
        "colab": {
          "base_uri": "https://localhost:8080/"
        },
        "id": "go-lCsefHwFh",
        "outputId": "d62f4cb7-ba6a-41eb-e618-fda64eae467d"
      },
      "execution_count": 12,
      "outputs": [
        {
          "output_type": "stream",
          "name": "stdout",
          "text": [
            "Accuracy: 0.9534883720930233\n"
          ]
        },
        {
          "output_type": "stream",
          "name": "stderr",
          "text": [
            "/usr/local/lib/python3.9/dist-packages/sklearn/linear_model/_logistic.py:458: ConvergenceWarning: lbfgs failed to converge (status=1):\n",
            "STOP: TOTAL NO. of ITERATIONS REACHED LIMIT.\n",
            "\n",
            "Increase the number of iterations (max_iter) or scale the data as shown in:\n",
            "    https://scikit-learn.org/stable/modules/preprocessing.html\n",
            "Please also refer to the documentation for alternative solver options:\n",
            "    https://scikit-learn.org/stable/modules/linear_model.html#logistic-regression\n",
            "  n_iter_i = _check_optimize_result(\n"
          ]
        }
      ]
    },
    {
      "cell_type": "code",
      "source": [
        "import pandas as pd\n",
        "from sklearn.impute import SimpleImputer\n",
        "\n",
        "# Load dataset\n",
        "data = pd.read_csv(\"/content/drive/MyDrive/Classroom/risk_factors_cervical_cancer.csv\")\n",
        "\n",
        "# Replace '?' with NaN values\n",
        "data = data.replace('?', float(\"NaN\"))\n",
        "\n",
        "# Separate features and target variable\n",
        "X = data.drop('Biopsy', axis=1)\n",
        "y = data['Biopsy']\n",
        "\n",
        "# Perform mean imputation strategy\n",
        "imputer = SimpleImputer(strategy='mean')\n",
        "X_imputed = imputer.fit_transform(X)\n",
        "\n",
        "# Print the first 5 rows of the original dataset\n",
        "print(\"Original dataset:\")\n",
        "print(X.head())\n",
        "\n",
        "# Print the first 5 rows of the imputed dataset\n",
        "print(\"\\nImputed dataset:\")\n",
        "print(pd.DataFrame(X_imputed, columns=X.columns).head())\n",
        "\n"
      ],
      "metadata": {
        "colab": {
          "base_uri": "https://localhost:8080/"
        },
        "id": "V2Lyp4jRImPR",
        "outputId": "821780a7-b10a-4ae4-d53b-69cee9381cf6"
      },
      "execution_count": 18,
      "outputs": [
        {
          "output_type": "stream",
          "name": "stdout",
          "text": [
            "Original dataset:\n",
            "   Age Number of sexual partners First sexual intercourse Num of pregnancies  \\\n",
            "0   18                       4.0                     15.0                1.0   \n",
            "1   15                       1.0                     14.0                1.0   \n",
            "2   34                       1.0                      NaN                1.0   \n",
            "3   52                       5.0                     16.0                4.0   \n",
            "4   46                       3.0                     21.0                4.0   \n",
            "\n",
            "  Smokes Smokes (years) Smokes (packs/year) Hormonal Contraceptives  \\\n",
            "0    0.0            0.0                 0.0                     0.0   \n",
            "1    0.0            0.0                 0.0                     0.0   \n",
            "2    0.0            0.0                 0.0                     0.0   \n",
            "3    1.0           37.0                37.0                     1.0   \n",
            "4    0.0            0.0                 0.0                     1.0   \n",
            "\n",
            "  Hormonal Contraceptives (years)  IUD  ... STDs: Number of diagnosis  \\\n",
            "0                             0.0  0.0  ...                         0   \n",
            "1                             0.0  0.0  ...                         0   \n",
            "2                             0.0  0.0  ...                         0   \n",
            "3                             3.0  0.0  ...                         0   \n",
            "4                            15.0  0.0  ...                         0   \n",
            "\n",
            "  STDs: Time since first diagnosis STDs: Time since last diagnosis Dx:Cancer  \\\n",
            "0                              NaN                             NaN         0   \n",
            "1                              NaN                             NaN         0   \n",
            "2                              NaN                             NaN         0   \n",
            "3                              NaN                             NaN         1   \n",
            "4                              NaN                             NaN         0   \n",
            "\n",
            "  Dx:CIN Dx:HPV Dx Hinselmann Schiller Citology  \n",
            "0      0      0  0          0        0        0  \n",
            "1      0      0  0          0        0        0  \n",
            "2      0      0  0          0        0        0  \n",
            "3      0      1  0          0        0        0  \n",
            "4      0      0  0          0        0        0  \n",
            "\n",
            "[5 rows x 35 columns]\n",
            "\n",
            "Imputed dataset:\n",
            "    Age  Number of sexual partners  First sexual intercourse  \\\n",
            "0  18.0                        4.0                   15.0000   \n",
            "1  15.0                        1.0                   14.0000   \n",
            "2  34.0                        1.0                   16.9953   \n",
            "3  52.0                        5.0                   16.0000   \n",
            "4  46.0                        3.0                   21.0000   \n",
            "\n",
            "   Num of pregnancies  Smokes  Smokes (years)  Smokes (packs/year)  \\\n",
            "0                 1.0     0.0             0.0                  0.0   \n",
            "1                 1.0     0.0             0.0                  0.0   \n",
            "2                 1.0     0.0             0.0                  0.0   \n",
            "3                 4.0     1.0            37.0                 37.0   \n",
            "4                 4.0     0.0             0.0                  0.0   \n",
            "\n",
            "   Hormonal Contraceptives  Hormonal Contraceptives (years)  IUD  ...  \\\n",
            "0                      0.0                              0.0  0.0  ...   \n",
            "1                      0.0                              0.0  0.0  ...   \n",
            "2                      0.0                              0.0  0.0  ...   \n",
            "3                      1.0                              3.0  0.0  ...   \n",
            "4                      1.0                             15.0  0.0  ...   \n",
            "\n",
            "   STDs: Number of diagnosis  STDs: Time since first diagnosis  \\\n",
            "0                        0.0                          6.140845   \n",
            "1                        0.0                          6.140845   \n",
            "2                        0.0                          6.140845   \n",
            "3                        0.0                          6.140845   \n",
            "4                        0.0                          6.140845   \n",
            "\n",
            "   STDs: Time since last diagnosis  Dx:Cancer  Dx:CIN  Dx:HPV   Dx  \\\n",
            "0                         5.816901        0.0     0.0     0.0  0.0   \n",
            "1                         5.816901        0.0     0.0     0.0  0.0   \n",
            "2                         5.816901        0.0     0.0     0.0  0.0   \n",
            "3                         5.816901        1.0     0.0     1.0  0.0   \n",
            "4                         5.816901        0.0     0.0     0.0  0.0   \n",
            "\n",
            "   Hinselmann  Schiller  Citology  \n",
            "0         0.0       0.0       0.0  \n",
            "1         0.0       0.0       0.0  \n",
            "2         0.0       0.0       0.0  \n",
            "3         0.0       0.0       0.0  \n",
            "4         0.0       0.0       0.0  \n",
            "\n",
            "[5 rows x 35 columns]\n"
          ]
        }
      ]
    },
    {
      "cell_type": "code",
      "source": [],
      "metadata": {
        "colab": {
          "base_uri": "https://localhost:8080/"
        },
        "id": "5wLB0NWKJ3Ke",
        "outputId": "dc665ff3-92d1-4ea2-cf8b-112ad9313b5a"
      },
      "execution_count": 17,
      "outputs": [
        {
          "output_type": "stream",
          "name": "stdout",
          "text": [
            "Original dataset:\n",
            "   Age Number of sexual partners First sexual intercourse Num of pregnancies  \\\n",
            "0   18                       4.0                     15.0                1.0   \n",
            "1   15                       1.0                     14.0                1.0   \n",
            "2   34                       1.0                      NaN                1.0   \n",
            "3   52                       5.0                     16.0                4.0   \n",
            "4   46                       3.0                     21.0                4.0   \n",
            "\n",
            "  Smokes Smokes (years) Smokes (packs/year) Hormonal Contraceptives  \\\n",
            "0    0.0            0.0                 0.0                     0.0   \n",
            "1    0.0            0.0                 0.0                     0.0   \n",
            "2    0.0            0.0                 0.0                     0.0   \n",
            "3    1.0           37.0                37.0                     1.0   \n",
            "4    0.0            0.0                 0.0                     1.0   \n",
            "\n",
            "  Hormonal Contraceptives (years)  IUD  ... STDs: Number of diagnosis  \\\n",
            "0                             0.0  0.0  ...                         0   \n",
            "1                             0.0  0.0  ...                         0   \n",
            "2                             0.0  0.0  ...                         0   \n",
            "3                             3.0  0.0  ...                         0   \n",
            "4                            15.0  0.0  ...                         0   \n",
            "\n",
            "  STDs: Time since first diagnosis STDs: Time since last diagnosis Dx:Cancer  \\\n",
            "0                              NaN                             NaN         0   \n",
            "1                              NaN                             NaN         0   \n",
            "2                              NaN                             NaN         0   \n",
            "3                              NaN                             NaN         1   \n",
            "4                              NaN                             NaN         0   \n",
            "\n",
            "  Dx:CIN Dx:HPV Dx Hinselmann Schiller Citology  \n",
            "0      0      0  0          0        0        0  \n",
            "1      0      0  0          0        0        0  \n",
            "2      0      0  0          0        0        0  \n",
            "3      0      1  0          0        0        0  \n",
            "4      0      0  0          0        0        0  \n",
            "\n",
            "[5 rows x 35 columns]\n",
            "\n",
            "Imputed dataset:\n",
            "    Age  Number of sexual partners  First sexual intercourse  \\\n",
            "0  18.0                        4.0                   15.0000   \n",
            "1  15.0                        1.0                   14.0000   \n",
            "2  34.0                        1.0                   16.9953   \n",
            "3  52.0                        5.0                   16.0000   \n",
            "4  46.0                        3.0                   21.0000   \n",
            "\n",
            "   Num of pregnancies  Smokes  Smokes (years)  Smokes (packs/year)  \\\n",
            "0                 1.0     0.0             0.0                  0.0   \n",
            "1                 1.0     0.0             0.0                  0.0   \n",
            "2                 1.0     0.0             0.0                  0.0   \n",
            "3                 4.0     1.0            37.0                 37.0   \n",
            "4                 4.0     0.0             0.0                  0.0   \n",
            "\n",
            "   Hormonal Contraceptives  Hormonal Contraceptives (years)  IUD  ...  \\\n",
            "0                      0.0                              0.0  0.0  ...   \n",
            "1                      0.0                              0.0  0.0  ...   \n",
            "2                      0.0                              0.0  0.0  ...   \n",
            "3                      1.0                              3.0  0.0  ...   \n",
            "4                      1.0                             15.0  0.0  ...   \n",
            "\n",
            "   STDs: Number of diagnosis  STDs: Time since first diagnosis  \\\n",
            "0                        0.0                          6.140845   \n",
            "1                        0.0                          6.140845   \n",
            "2                        0.0                          6.140845   \n",
            "3                        0.0                          6.140845   \n",
            "4                        0.0                          6.140845   \n",
            "\n",
            "   STDs: Time since last diagnosis  Dx:Cancer  Dx:CIN  Dx:HPV   Dx  \\\n",
            "0                         5.816901        0.0     0.0     0.0  0.0   \n",
            "1                         5.816901        0.0     0.0     0.0  0.0   \n",
            "2                         5.816901        0.0     0.0     0.0  0.0   \n",
            "3                         5.816901        1.0     0.0     1.0  0.0   \n",
            "4                         5.816901        0.0     0.0     0.0  0.0   \n",
            "\n",
            "   Hinselmann  Schiller  Citology  \n",
            "0         0.0       0.0       0.0  \n",
            "1         0.0       0.0       0.0  \n",
            "2         0.0       0.0       0.0  \n",
            "3         0.0       0.0       0.0  \n",
            "4         0.0       0.0       0.0  \n",
            "\n",
            "[5 rows x 35 columns]\n"
          ]
        }
      ]
    },
    {
      "cell_type": "code",
      "source": [
        "import pandas as pd\n",
        "from sklearn.ensemble import RandomForestClassifier\n",
        "from sklearn.model_selection import train_test_split\n",
        "from sklearn.metrics import accuracy_score\n",
        "from sklearn.impute import SimpleImputer\n",
        "\n",
        "# Load data from CSV file\n",
        "data = pd.read_csv('/content/drive/MyDrive/Classroom/risk_factors_cervical_cancer.csv')\n",
        "\n",
        "# Drop irrelevant columns\n",
        "data = data.drop(['STDs: Time since first diagnosis', 'STDs: Time since last diagnosis'], axis=1)\n",
        "\n",
        "# Replace missing values '?' with NaN\n",
        "data = data.replace('?', pd.np.nan)\n",
        "\n",
        "# Convert all columns to numeric type\n",
        "data = data.apply(pd.to_numeric)\n",
        "\n",
        "# Impute missing values with mean of column\n",
        "imputer = SimpleImputer(strategy='mean')\n",
        "data = imputer.fit_transform(data)\n",
        "\n",
        "# Split data into training and testing sets\n",
        "X_train, X_test, y_train, y_test = train_test_split(data[:, :-1], data[:, -1], test_size=0.2, random_state=42)\n",
        "\n",
        "# Train Random Forest Classifier\n",
        "rfc = RandomForestClassifier(n_estimators=100, random_state=42)\n",
        "rfc.fit(X_train, y_train)\n",
        "\n",
        "# Predict on test set\n",
        "y_pred = rfc.predict(X_test)\n",
        "\n",
        "# Calculate accuracy score\n",
        "accuracy = accuracy_score(y_test, y_pred)\n",
        "\n",
        "print(f\"Accuracy: {accuracy:.2f}\")\n"
      ],
      "metadata": {
        "colab": {
          "base_uri": "https://localhost:8080/"
        },
        "id": "JmqLXFhBKH17",
        "outputId": "e412ea7b-de15-45e0-8b95-ed485b5aa1d4"
      },
      "execution_count": 25,
      "outputs": [
        {
          "output_type": "stream",
          "name": "stdout",
          "text": [
            "Accuracy: 0.95\n"
          ]
        },
        {
          "output_type": "stream",
          "name": "stderr",
          "text": [
            "<ipython-input-25-c1f34d2726f1>:14: FutureWarning: The pandas.np module is deprecated and will be removed from pandas in a future version. Import numpy directly instead.\n",
            "  data = data.replace('?', pd.np.nan)\n"
          ]
        }
      ]
    }
  ]
}