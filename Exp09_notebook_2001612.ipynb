{
  "nbformat": 4,
  "nbformat_minor": 0,
  "metadata": {
    "colab": {
      "provenance": [],
      "authorship_tag": "ABX9TyMzQiXk4UOoHBrKUlB5yezu",
      "include_colab_link": true
    },
    "kernelspec": {
      "name": "python3",
      "display_name": "Python 3"
    },
    "language_info": {
      "name": "python"
    }
  },
  "cells": [
    {
      "cell_type": "markdown",
      "metadata": {
        "id": "view-in-github",
        "colab_type": "text"
      },
      "source": [
        "<a href=\"https://colab.research.google.com/github/Uddeshkarle/DS_PY_Writeups_2001612/blob/main/Exp09_notebook_2001612.ipynb\" target=\"_parent\"><img src=\"https://colab.research.google.com/assets/colab-badge.svg\" alt=\"Open In Colab\"/></a>"
      ]
    },
    {
      "cell_type": "code",
      "execution_count": 1,
      "metadata": {
        "id": "-Bz6TNU33YAT",
        "colab": {
          "base_uri": "https://localhost:8080/",
          "height": 35
        },
        "outputId": "0eb859f6-7db8-46d7-9a47-8013fbbc0ac3"
      },
      "outputs": [
        {
          "output_type": "execute_result",
          "data": {
            "text/plain": [
              "'3.7.1'"
            ],
            "application/vnd.google.colaboratory.intrinsic+json": {
              "type": "string"
            }
          },
          "metadata": {},
          "execution_count": 1
        }
      ],
      "source": [
        "import matplotlib as mpl\n",
        "import matplotlib.pyplot as plt\n",
        "mpl.__version__"
      ]
    },
    {
      "cell_type": "code",
      "source": [
        "from google.colab import drive\n",
        "drive.mount('/content/drive')"
      ],
      "metadata": {
        "colab": {
          "base_uri": "https://localhost:8080/"
        },
        "id": "ViuCxurBMsjq",
        "outputId": "c4c5432e-3b7f-4cd9-9b7d-00a0a79c228b"
      },
      "execution_count": 2,
      "outputs": [
        {
          "output_type": "stream",
          "name": "stdout",
          "text": [
            "Mounted at /content/drive\n"
          ]
        }
      ]
    },
    {
      "cell_type": "markdown",
      "source": [
        "1. Define your Problem statement and ML technique II(two) you propose to use. "
      ],
      "metadata": {
        "id": "Q4-S07zZNbFD"
      }
    },
    {
      "cell_type": "markdown",
      "source": [
        "The problem statement is to predict the risk of breast cancer recurrence in patients based on certain clinical factors. The Breast Cancer Coimbra Data Set consists of 10 clinical features and a target variable indicating the recurrence of breast cancer. \n",
        "The ML technique proposed to solve this problem is binary classification using logistic regression.\n",
        "\n",
        "Logistic regression is a statistical method used to analyze a dataset where the target variable is binary. It models the relationship between the target variable and the predictor variables by estimating the probabilities of the target variable taking a particular value given the predictor variables. Logistic regression uses a sigmoid function to model the probabilities of the target variable, and the model parameters are estimated using maximum likelihood estimation.\n",
        "The logistic regression model can be trained on the Breast Cancer Coimbra Data Set to predict the risk of breast cancer recurrence in patients based on their clinical factors. The model can then be used to identify patients at high risk of breast cancer recurrence and to provide appropriate medical interventions to minimize the risk."
      ],
      "metadata": {
        "id": "ldg96DesNk0F"
      }
    },
    {
      "cell_type": "markdown",
      "source": [
        "2. Write about working of ML technique II you have proposed  "
      ],
      "metadata": {
        "id": "WZOPzRumNvZU"
      }
    },
    {
      "cell_type": "markdown",
      "source": [
        "Logistic Regression is a supervised machine learning algorithm used for classification problems. It is used to predict the probability of a binary outcome based on one or more predictor variables.\n",
        "\n",
        "In the case of the Breast Cancer Coimbra dataset, we have multiple predictor variables such as age, BMI, glucose, and so on, which can be used to predict the binary outcome of the patient having or not having breast cancer.\n",
        "\n",
        "The logistic regression model fits a logistic function to the predictor variables to estimate the probability of the outcome variable. The logistic function is a sigmoid-shaped curve that can take any input value and output a value between 0 and 1, which represents the probability of the outcome variable.\n",
        "\n",
        "The logistic regression algorithm uses maximum likelihood estimation to estimate the parameters of the logistic function. Once the parameters are estimated, the logistic function can be used to make predictions on new data.\n",
        "\n",
        "To evaluate the performance of the logistic regression model, we can use metrics such as accuracy, precision, recall, and F1 score. These metrics can help us determine how well the model is able to predict the binary outcome variable based on the predictor variables."
      ],
      "metadata": {
        "id": "RTRSNFQVNyJV"
      }
    },
    {
      "cell_type": "markdown",
      "source": [
        "4. Do pre-processing as per requirements of ML technique "
      ],
      "metadata": {
        "id": "GM8c6g9bQOuj"
      }
    },
    {
      "cell_type": "code",
      "source": [
        "import pandas as pd\n",
        "import numpy as np\n",
        "from sklearn.model_selection import train_test_split\n",
        "from sklearn.preprocessing import StandardScaler\n",
        "\n",
        "\n",
        "data = pd.read_csv('/content/drive/MyDrive/Classroom/dataR2.csv')\n",
        "\n",
        "\n",
        "data = data.replace('?', np.nan)\n",
        "data = data.astype(float)\n",
        "data.fillna(data.median(), inplace=True)\n",
        "\n",
        "X = data.iloc[:, :-1].values\n",
        "y = data.iloc[:, -1].values\n",
        "\n",
        "\n",
        "scaler = StandardScaler()\n",
        "X = scaler.fit_transform(X)\n",
        "\n",
        "\n",
        "X_train, X_test, y_train, y_test = train_test_split(X, y, test_size=0.2, random_state=42)\n",
        "\n",
        "print(\"Preprocessing complete.\")\n"
      ],
      "metadata": {
        "colab": {
          "base_uri": "https://localhost:8080/"
        },
        "id": "TP6gqQUMPcdc",
        "outputId": "94bb109e-20aa-483f-e63e-abc31d5f9d5e"
      },
      "execution_count": 3,
      "outputs": [
        {
          "output_type": "stream",
          "name": "stdout",
          "text": [
            "Preprocessing complete.\n"
          ]
        }
      ]
    },
    {
      "cell_type": "markdown",
      "source": [
        "5. Divide Data set in to training and validation sets"
      ],
      "metadata": {
        "id": "DpNpJDxqUWjC"
      }
    },
    {
      "cell_type": "code",
      "source": [
        "from sklearn.model_selection import train_test_split\n",
        "\n",
        "\n",
        "import pandas as pd\n",
        "\n",
        "\n",
        "df = pd.read_csv('/content/drive/MyDrive/Classroom/dataR2.csv')\n",
        "\n",
        "\n",
        "X = df.drop(['Classification'], axis=1)\n",
        "y = df['Classification']\n",
        "\n",
        "X_train, X_val, y_train, y_val = train_test_split(X, y, test_size=0.2, random_state=42)\n",
        "\n",
        "\n",
        "print(\"Training Set:\")\n",
        "print(X_train)\n",
        "\n",
        "print(\"\\nValidation Set:\")\n",
        "print(y_train)\n",
        "\n"
      ],
      "metadata": {
        "colab": {
          "base_uri": "https://localhost:8080/"
        },
        "id": "Cm4nQ9iUQgd2",
        "outputId": "a700233c-24fb-41ef-db0a-3437a28b0cc9"
      },
      "execution_count": 8,
      "outputs": [
        {
          "output_type": "stream",
          "name": "stdout",
          "text": [
            "Training Set:\n",
            "     Age        BMI  Glucose  Insulin      HOMA   Leptin  Adiponectin  \\\n",
            "15    44  20.760000       86    7.553  1.600000  14.0900    20.320000   \n",
            "68    46  20.830000       88    3.420  0.742368  12.8700    18.550000   \n",
            "31    53  36.790166      101   10.175  2.534932  27.1841    20.030000   \n",
            "24    54  30.483158       90    5.537  1.229214  12.3310     9.731380   \n",
            "55    34  24.242424       92   21.699  4.924226  16.7353    21.823745   \n",
            "..   ...        ...      ...      ...       ...      ...          ...   \n",
            "106   45  29.384757       90    4.713  1.046286  23.8479     6.644245   \n",
            "14    38  23.340000       75    5.782  1.069670  15.2600    17.950000   \n",
            "92    52  30.801249       87   30.212  6.483495  29.2739     6.268540   \n",
            "51    77  25.900000       85    4.580  0.960273  13.7400     9.753260   \n",
            "102   65  30.915577       97   10.491  2.510147  44.0217     3.710090   \n",
            "\n",
            "     Resistin     MCP.1  \n",
            "15    7.64000    63.610  \n",
            "68   13.56000   301.210  \n",
            "31   10.26309   695.754  \n",
            "24   10.19299  1227.910  \n",
            "55   12.06534   481.949  \n",
            "..        ...       ...  \n",
            "106  15.55625   621.273  \n",
            "14    9.35000   165.020  \n",
            "92   24.24591   764.667  \n",
            "51   11.77400   488.829  \n",
            "102  20.46850   396.648  \n",
            "\n",
            "[92 rows x 9 columns]\n",
            "\n",
            "Validation Set:\n",
            "15     1\n",
            "68     2\n",
            "31     1\n",
            "24     1\n",
            "55     2\n",
            "      ..\n",
            "106    2\n",
            "14     1\n",
            "92     2\n",
            "51     1\n",
            "102    2\n",
            "Name: Classification, Length: 92, dtype: int64\n"
          ]
        }
      ]
    },
    {
      "cell_type": "markdown",
      "source": [
        "6. Perform training "
      ],
      "metadata": {
        "id": "PjBBX088USkZ"
      }
    },
    {
      "cell_type": "code",
      "source": [
        "from sklearn.linear_model import LogisticRegression\n",
        "\n",
        "\n",
        "model = LogisticRegression()\n",
        "\n",
        "model.fit(X_train, y_train)\n"
      ],
      "metadata": {
        "colab": {
          "base_uri": "https://localhost:8080/",
          "height": 211
        },
        "id": "y-5tnjxnTDcr",
        "outputId": "3196372c-d1f9-4352-fee9-7e556d3e4253"
      },
      "execution_count": 9,
      "outputs": [
        {
          "output_type": "stream",
          "name": "stderr",
          "text": [
            "/usr/local/lib/python3.9/dist-packages/sklearn/linear_model/_logistic.py:458: ConvergenceWarning: lbfgs failed to converge (status=1):\n",
            "STOP: TOTAL NO. of ITERATIONS REACHED LIMIT.\n",
            "\n",
            "Increase the number of iterations (max_iter) or scale the data as shown in:\n",
            "    https://scikit-learn.org/stable/modules/preprocessing.html\n",
            "Please also refer to the documentation for alternative solver options:\n",
            "    https://scikit-learn.org/stable/modules/linear_model.html#logistic-regression\n",
            "  n_iter_i = _check_optimize_result(\n"
          ]
        },
        {
          "output_type": "execute_result",
          "data": {
            "text/plain": [
              "LogisticRegression()"
            ],
            "text/html": [
              "<style>#sk-container-id-1 {color: black;background-color: white;}#sk-container-id-1 pre{padding: 0;}#sk-container-id-1 div.sk-toggleable {background-color: white;}#sk-container-id-1 label.sk-toggleable__label {cursor: pointer;display: block;width: 100%;margin-bottom: 0;padding: 0.3em;box-sizing: border-box;text-align: center;}#sk-container-id-1 label.sk-toggleable__label-arrow:before {content: \"▸\";float: left;margin-right: 0.25em;color: #696969;}#sk-container-id-1 label.sk-toggleable__label-arrow:hover:before {color: black;}#sk-container-id-1 div.sk-estimator:hover label.sk-toggleable__label-arrow:before {color: black;}#sk-container-id-1 div.sk-toggleable__content {max-height: 0;max-width: 0;overflow: hidden;text-align: left;background-color: #f0f8ff;}#sk-container-id-1 div.sk-toggleable__content pre {margin: 0.2em;color: black;border-radius: 0.25em;background-color: #f0f8ff;}#sk-container-id-1 input.sk-toggleable__control:checked~div.sk-toggleable__content {max-height: 200px;max-width: 100%;overflow: auto;}#sk-container-id-1 input.sk-toggleable__control:checked~label.sk-toggleable__label-arrow:before {content: \"▾\";}#sk-container-id-1 div.sk-estimator input.sk-toggleable__control:checked~label.sk-toggleable__label {background-color: #d4ebff;}#sk-container-id-1 div.sk-label input.sk-toggleable__control:checked~label.sk-toggleable__label {background-color: #d4ebff;}#sk-container-id-1 input.sk-hidden--visually {border: 0;clip: rect(1px 1px 1px 1px);clip: rect(1px, 1px, 1px, 1px);height: 1px;margin: -1px;overflow: hidden;padding: 0;position: absolute;width: 1px;}#sk-container-id-1 div.sk-estimator {font-family: monospace;background-color: #f0f8ff;border: 1px dotted black;border-radius: 0.25em;box-sizing: border-box;margin-bottom: 0.5em;}#sk-container-id-1 div.sk-estimator:hover {background-color: #d4ebff;}#sk-container-id-1 div.sk-parallel-item::after {content: \"\";width: 100%;border-bottom: 1px solid gray;flex-grow: 1;}#sk-container-id-1 div.sk-label:hover label.sk-toggleable__label {background-color: #d4ebff;}#sk-container-id-1 div.sk-serial::before {content: \"\";position: absolute;border-left: 1px solid gray;box-sizing: border-box;top: 0;bottom: 0;left: 50%;z-index: 0;}#sk-container-id-1 div.sk-serial {display: flex;flex-direction: column;align-items: center;background-color: white;padding-right: 0.2em;padding-left: 0.2em;position: relative;}#sk-container-id-1 div.sk-item {position: relative;z-index: 1;}#sk-container-id-1 div.sk-parallel {display: flex;align-items: stretch;justify-content: center;background-color: white;position: relative;}#sk-container-id-1 div.sk-item::before, #sk-container-id-1 div.sk-parallel-item::before {content: \"\";position: absolute;border-left: 1px solid gray;box-sizing: border-box;top: 0;bottom: 0;left: 50%;z-index: -1;}#sk-container-id-1 div.sk-parallel-item {display: flex;flex-direction: column;z-index: 1;position: relative;background-color: white;}#sk-container-id-1 div.sk-parallel-item:first-child::after {align-self: flex-end;width: 50%;}#sk-container-id-1 div.sk-parallel-item:last-child::after {align-self: flex-start;width: 50%;}#sk-container-id-1 div.sk-parallel-item:only-child::after {width: 0;}#sk-container-id-1 div.sk-dashed-wrapped {border: 1px dashed gray;margin: 0 0.4em 0.5em 0.4em;box-sizing: border-box;padding-bottom: 0.4em;background-color: white;}#sk-container-id-1 div.sk-label label {font-family: monospace;font-weight: bold;display: inline-block;line-height: 1.2em;}#sk-container-id-1 div.sk-label-container {text-align: center;}#sk-container-id-1 div.sk-container {/* jupyter's `normalize.less` sets `[hidden] { display: none; }` but bootstrap.min.css set `[hidden] { display: none !important; }` so we also need the `!important` here to be able to override the default hidden behavior on the sphinx rendered scikit-learn.org. See: https://github.com/scikit-learn/scikit-learn/issues/21755 */display: inline-block !important;position: relative;}#sk-container-id-1 div.sk-text-repr-fallback {display: none;}</style><div id=\"sk-container-id-1\" class=\"sk-top-container\"><div class=\"sk-text-repr-fallback\"><pre>LogisticRegression()</pre><b>In a Jupyter environment, please rerun this cell to show the HTML representation or trust the notebook. <br />On GitHub, the HTML representation is unable to render, please try loading this page with nbviewer.org.</b></div><div class=\"sk-container\" hidden><div class=\"sk-item\"><div class=\"sk-estimator sk-toggleable\"><input class=\"sk-toggleable__control sk-hidden--visually\" id=\"sk-estimator-id-1\" type=\"checkbox\" checked><label for=\"sk-estimator-id-1\" class=\"sk-toggleable__label sk-toggleable__label-arrow\">LogisticRegression</label><div class=\"sk-toggleable__content\"><pre>LogisticRegression()</pre></div></div></div></div></div>"
            ]
          },
          "metadata": {},
          "execution_count": 9
        }
      ]
    },
    {
      "cell_type": "markdown",
      "source": [
        "7. Perform Validation"
      ],
      "metadata": {
        "id": "ZKLHt0AfUt-p"
      }
    },
    {
      "cell_type": "code",
      "source": [
        "\n",
        "from sklearn.linear_model import LogisticRegression\n",
        "from sklearn.metrics import accuracy_score\n",
        "\n",
        "logreg = LogisticRegression()\n",
        "\n",
        "logreg.fit(X_train, y_train)\n",
        "\n",
        "\n",
        "y_pred = logreg.predict(X_val)\n",
        "\n",
        "\n",
        "accuracy = accuracy_score(y_val, y_pred)\n",
        "\n",
        "\n",
        "print(\"Accuracy score:\", accuracy)\n"
      ],
      "metadata": {
        "colab": {
          "base_uri": "https://localhost:8080/"
        },
        "id": "3OaHkHCoUbRl",
        "outputId": "998b1384-630d-4bd6-edfa-6a63f175ac69"
      },
      "execution_count": 10,
      "outputs": [
        {
          "output_type": "stream",
          "name": "stdout",
          "text": [
            "Accuracy score: 0.75\n"
          ]
        },
        {
          "output_type": "stream",
          "name": "stderr",
          "text": [
            "/usr/local/lib/python3.9/dist-packages/sklearn/linear_model/_logistic.py:458: ConvergenceWarning: lbfgs failed to converge (status=1):\n",
            "STOP: TOTAL NO. of ITERATIONS REACHED LIMIT.\n",
            "\n",
            "Increase the number of iterations (max_iter) or scale the data as shown in:\n",
            "    https://scikit-learn.org/stable/modules/preprocessing.html\n",
            "Please also refer to the documentation for alternative solver options:\n",
            "    https://scikit-learn.org/stable/modules/linear_model.html#logistic-regression\n",
            "  n_iter_i = _check_optimize_result(\n"
          ]
        }
      ]
    },
    {
      "cell_type": "markdown",
      "source": [
        "8. Report Accuracy of your trained ML Model"
      ],
      "metadata": {
        "id": "XGzU_Vs5UqUC"
      }
    },
    {
      "cell_type": "code",
      "source": [
        "from sklearn.metrics import accuracy_score\n",
        "\n",
        "\n",
        "y_pred = logreg.predict(X_val)\n",
        "\n",
        "\n",
        "acc = accuracy_score(y_val, y_pred)\n",
        "\n",
        "print(\"Accuracy:\", acc)\n"
      ],
      "metadata": {
        "colab": {
          "base_uri": "https://localhost:8080/"
        },
        "id": "8EWwIdY7UoZZ",
        "outputId": "e8b7ca74-5f0f-4ffb-a995-f21d5c8bcc21"
      },
      "execution_count": 11,
      "outputs": [
        {
          "output_type": "stream",
          "name": "stdout",
          "text": [
            "Accuracy: 0.75\n"
          ]
        }
      ]
    }
  ]
}